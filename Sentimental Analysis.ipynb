{
 "cells": [
  {
   "cell_type": "code",
   "execution_count": 29,
   "id": "6c8f67c2",
   "metadata": {},
   "outputs": [],
   "source": [
    "import pandas as pd\n",
    "import numpy as np\n",
    "from tqdm import tqdm\n",
    "from keras.preprocessing.text import Tokenizer\n",
    "tqdm.pandas(desc=\"progress-bar\")\n",
    "from gensim.models import Doc2Vec\n",
    "from sklearn import utils\n",
    "from sklearn.model_selection import train_test_split\n",
    "from tensorflow.keras.preprocessing.sequence import pad_sequences\n",
    "import gensim\n",
    "from sklearn.linear_model import LogisticRegression\n",
    "from gensim.models.doc2vec import TaggedDocument\n",
    "import re\n",
    "import seaborn as sns\n",
    "import matplotlib.pyplot as plt"
   ]
  },
  {
   "cell_type": "code",
   "execution_count": 30,
   "id": "3c4c3cc7",
   "metadata": {},
   "outputs": [
    {
     "data": {
      "text/html": [
       "<div>\n",
       "<style scoped>\n",
       "    .dataframe tbody tr th:only-of-type {\n",
       "        vertical-align: middle;\n",
       "    }\n",
       "\n",
       "    .dataframe tbody tr th {\n",
       "        vertical-align: top;\n",
       "    }\n",
       "\n",
       "    .dataframe thead th {\n",
       "        text-align: right;\n",
       "    }\n",
       "</style>\n",
       "<table border=\"1\" class=\"dataframe\">\n",
       "  <thead>\n",
       "    <tr style=\"text-align: right;\">\n",
       "      <th></th>\n",
       "      <th>neutral</th>\n",
       "      <th>According to Gran , the company has no plans to move all production to Russia , although that is where the company is growing .</th>\n",
       "    </tr>\n",
       "  </thead>\n",
       "  <tbody>\n",
       "    <tr>\n",
       "      <th>0</th>\n",
       "      <td>neutral</td>\n",
       "      <td>Technopolis plans to develop in stages an area...</td>\n",
       "    </tr>\n",
       "    <tr>\n",
       "      <th>1</th>\n",
       "      <td>negative</td>\n",
       "      <td>The international electronic industry company ...</td>\n",
       "    </tr>\n",
       "    <tr>\n",
       "      <th>2</th>\n",
       "      <td>positive</td>\n",
       "      <td>With the new production plant the company woul...</td>\n",
       "    </tr>\n",
       "    <tr>\n",
       "      <th>3</th>\n",
       "      <td>positive</td>\n",
       "      <td>According to the company 's updated strategy f...</td>\n",
       "    </tr>\n",
       "    <tr>\n",
       "      <th>4</th>\n",
       "      <td>positive</td>\n",
       "      <td>FINANCING OF ASPOCOMP 'S GROWTH Aspocomp is ag...</td>\n",
       "    </tr>\n",
       "  </tbody>\n",
       "</table>\n",
       "</div>"
      ],
      "text/plain": [
       "    neutral  \\\n",
       "0   neutral   \n",
       "1  negative   \n",
       "2  positive   \n",
       "3  positive   \n",
       "4  positive   \n",
       "\n",
       "  According to Gran , the company has no plans to move all production to Russia , although that is where the company is growing .  \n",
       "0  Technopolis plans to develop in stages an area...                                                                               \n",
       "1  The international electronic industry company ...                                                                               \n",
       "2  With the new production plant the company woul...                                                                               \n",
       "3  According to the company 's updated strategy f...                                                                               \n",
       "4  FINANCING OF ASPOCOMP 'S GROWTH Aspocomp is ag...                                                                               "
      ]
     },
     "execution_count": 30,
     "metadata": {},
     "output_type": "execute_result"
    }
   ],
   "source": [
    "df = pd.read_csv('FinancialData.csv',delimiter=',',encoding='latin-1')\n",
    "df.head()"
   ]
  },
  {
   "cell_type": "code",
   "execution_count": 31,
   "id": "7625f1a4",
   "metadata": {},
   "outputs": [],
   "source": [
    "df = df.rename(columns={'neutral':'sentiment','According to Gran , the company has no plans to move all production to Russia , although that is where the company is growing .':'Message'})"
   ]
  },
  {
   "cell_type": "code",
   "execution_count": 32,
   "id": "642939a9",
   "metadata": {},
   "outputs": [
    {
     "data": {
      "text/plain": [
       "(4845, 2)"
      ]
     },
     "execution_count": 32,
     "metadata": {},
     "output_type": "execute_result"
    }
   ],
   "source": [
    "df.shape"
   ]
  },
  {
   "cell_type": "code",
   "execution_count": 33,
   "id": "440b5b2b",
   "metadata": {},
   "outputs": [
    {
     "data": {
      "text/plain": [
       "111964"
      ]
     },
     "execution_count": 33,
     "metadata": {},
     "output_type": "execute_result"
    }
   ],
   "source": [
    "df.index = range(4845)\n",
    "df['Message'].apply(lambda x: len(x.split(' '))).sum()"
   ]
  },
  {
   "cell_type": "code",
   "execution_count": 34,
   "id": "2f5be7d6",
   "metadata": {},
   "outputs": [
    {
     "name": "stderr",
     "output_type": "stream",
     "text": [
      "D:\\sharath\\lib\\site-packages\\seaborn\\_decorators.py:36: FutureWarning: Pass the following variables as keyword args: x, y. From version 0.12, the only valid positional argument will be `data`, and passing other arguments without an explicit keyword will result in an error or misinterpretation.\n",
      "  warnings.warn(\n"
     ]
    },
    {
     "data": {
      "image/png": "[encoded data removed]",
      "text/plain": [
       "<Figure size 864x288 with 1 Axes>"
      ]
     },
     "metadata": {
      "needs_background": "light"
     },
     "output_type": "display_data"
    }
   ],
   "source": [
    "cnt_pro = df['sentiment'].value_counts()\n",
    "plt.figure(figsize=(12,4))\n",
    "sns.barplot(cnt_pro.index, cnt_pro.values, alpha=0.8)\n",
    "plt.ylabel('Number of Occurrences', fontsize=12)\n",
    "plt.xlabel('sentiment', fontsize=12)\n",
    "plt.xticks(rotation=90)\n",
    "plt.show();"
   ]
  },
  {
   "cell_type": "code",
   "execution_count": 35,
   "id": "2742738f",
   "metadata": {},
   "outputs": [
    {
     "name": "stdout",
     "output_type": "stream",
     "text": [
      "      sentiment                                            Message\n",
      "0             1  Technopolis plans to develop in stages an area...\n",
      "1             2  The international electronic industry company ...\n",
      "2             0  With the new production plant the company woul...\n",
      "3             0  According to the company 's updated strategy f...\n",
      "4             0  FINANCING OF ASPOCOMP 'S GROWTH Aspocomp is ag...\n",
      "...         ...                                                ...\n",
      "4840          2  LONDON MarketWatch -- Share prices ended lower...\n",
      "4841          1  Rinkuskiai 's beer sales fell by 6.5 per cent ...\n",
      "4842          2  Operating profit fell to EUR 35.4 mn from EUR ...\n",
      "4843          2  Net sales of the Paper segment decreased to EU...\n",
      "4844          2  Sales in Finland decreased by 10.5 % in Januar...\n",
      "\n",
      "[4845 rows x 2 columns]\n"
     ]
    }
   ],
   "source": [
    "#Convert sting to numeric\n",
    "sentiment  = {'positive': 0,'neutral': 1,'negative':2} \n",
    "\n",
    "df.sentiment = [sentiment[item] for item in df.sentiment] \n",
    "print(df)"
   ]
  },
  {
   "cell_type": "code",
   "execution_count": 36,
   "id": "6a9ccb77",
   "metadata": {},
   "outputs": [
    {
     "name": "stdout",
     "output_type": "stream",
     "text": [
      "Finnish Talentum reports its operating profit increased to EUR 20.5 mn in 2005 from EUR 9.3 mn in 2004 , and net sales totaled EUR 103.3 mn , up from EUR 96.4 mn .\n",
      "Message: 0\n"
     ]
    }
   ],
   "source": [
    "def print_message(index):\n",
    "    example = df[df.index == index][['Message', 'sentiment']].values[0]\n",
    "    if len(example) > 0:\n",
    "        print(example[0])\n",
    "        print('Message:', example[1])\n",
    "print_message(12)"
   ]
  },
  {
   "cell_type": "code",
   "execution_count": 37,
   "id": "def9b018",
   "metadata": {},
   "outputs": [
    {
     "name": "stdout",
     "output_type": "stream",
     "text": [
      "Technopolis plans to develop in stages an area of no less than 100,000 square meters in order to host companies working in computer technologies and telecommunications , the statement said .\n",
      "Message: 1\n"
     ]
    }
   ],
   "source": [
    "print_message(0)"
   ]
  },
  {
   "cell_type": "code",
   "execution_count": 38,
   "id": "b0e8182e",
   "metadata": {},
   "outputs": [
    {
     "name": "stderr",
     "output_type": "stream",
     "text": [
      "D:\\sharath\\lib\\site-packages\\bs4\\__init__.py:435: MarkupResemblesLocatorWarning: The input looks more like a filename than markup. You may want to open this file and pass the filehandle into Beautiful Soup.\n",
      "  warnings.warn(\n"
     ]
    }
   ],
   "source": [
    "from bs4 import BeautifulSoup\n",
    "def cleanText(text):\n",
    "    text = BeautifulSoup(text, \"lxml\").text\n",
    "    text = re.sub(r'\\|\\|\\|', r' ', text) \n",
    "    text = re.sub(r'http\\S+', r'<URL>', text)\n",
    "    text = text.lower()\n",
    "    text = text.replace('x', '')\n",
    "    return text\n",
    "df['Message'] = df['Message'].apply(cleanText)"
   ]
  },
  {
   "cell_type": "code",
   "execution_count": 40,
   "id": "11ebd845",
   "metadata": {},
   "outputs": [
    {
     "name": "stderr",
     "output_type": "stream",
     "text": [
      "[nltk_data] Downloading package punkt to\n",
      "[nltk_data]     C:\\Users\\shara\\AppData\\Roaming\\nltk_data...\n",
      "[nltk_data]   Unzipping tokenizers\\punkt.zip.\n"
     ]
    },
    {
     "data": {
      "text/plain": [
       "True"
      ]
     },
     "execution_count": 40,
     "metadata": {},
     "output_type": "execute_result"
    }
   ],
   "source": [
    "import nltk\n",
    "nltk.download('punkt')"
   ]
  },
  {
   "cell_type": "code",
   "execution_count": 41,
   "id": "c15f97e9",
   "metadata": {},
   "outputs": [
    {
     "name": "stdout",
     "output_type": "stream",
     "text": [
      "Found 4845 unique tokens.\n"
     ]
    }
   ],
   "source": [
    "df['Message'] = df['Message'].apply(cleanText)\n",
    "train, test = train_test_split(df, test_size=0.000001 , random_state=42)\n",
    "import nltk\n",
    "from nltk.corpus import stopwords\n",
    "def tokenize_text(text):\n",
    "    tokens = []\n",
    "    for sent in nltk.sent_tokenize(text):\n",
    "        for word in nltk.word_tokenize(sent):\n",
    "            #if len(word) < 0:\n",
    "            if len(word) <= 0:\n",
    "                continue\n",
    "            tokens.append(word.lower())\n",
    "    return tokens\n",
    "train_tagged = train.apply(\n",
    "    lambda r: TaggedDocument(words=tokenize_text(r['Message']), tags=[r.sentiment]), axis=1)\n",
    "test_tagged = test.apply(\n",
    "    lambda r: TaggedDocument(words=tokenize_text(r['Message']), tags=[r.sentiment]), axis=1)\n",
    "\n",
    "# The maximum number of words to be used. (most frequent)\n",
    "max_fatures = 500000\n",
    "\n",
    "# Max number of words in each complaint.\n",
    "MAX_SEQUENCE_LENGTH = 50\n",
    "\n",
    "#tokenizer = Tokenizer(num_words=max_fatures, split=' ')\n",
    "tokenizer = Tokenizer(num_words=max_fatures, split=' ', filters='!\"#$%&()*+,-./:;<=>?@[\\]^_`{|}~', lower=True)\n",
    "tokenizer.fit_on_texts(df['Message'].values)\n",
    "X = tokenizer.texts_to_sequences(df['Message'].values)\n",
    "X = pad_sequences(X)\n",
    "print('Found %s unique tokens.' % len(X))"
   ]
  },
  {
   "cell_type": "code",
   "execution_count": 42,
   "id": "3834e958",
   "metadata": {},
   "outputs": [
    {
     "name": "stdout",
     "output_type": "stream",
     "text": [
      "Shape of data tensor: (4845, 50)\n"
     ]
    }
   ],
   "source": [
    "X = tokenizer.texts_to_sequences(df['Message'].values)\n",
    "X = pad_sequences(X, maxlen=MAX_SEQUENCE_LENGTH)\n",
    "print('Shape of data tensor:', X.shape)"
   ]
  },
  {
   "cell_type": "code",
   "execution_count": 43,
   "id": "25134075",
   "metadata": {},
   "outputs": [
    {
     "data": {
      "text/plain": [
       "array([TaggedDocument(words=['upm-kymmene', 'has', 'generated', 'four', 'consecutive', 'quarters', 'of', 'positive', 'free', 'cash', 'flow', '.'], tags=[0]),\n",
       "       TaggedDocument(words=['in', 'the', 'method', 'the', 'smelt', 'spouts', '2', 'are', 'separated', 'from', 'the', 'working', 'area', '6', 'by', 'a', 'shielding', 'wall', '8', ',', '10', 'arranged', 'movable', 'in', 'relation', 'to', 'the', 'smelt', 'spouts', '.'], tags=[1]),\n",
       "       TaggedDocument(words=['``', 'that', \"'s\", 'a', 'very', 'high', 'figure', 'on', 'the', 'european', 'scale', ',', '``', 'noop', 'said', ',', 'recalling', 'however', 'that', 'this', 'also', 'includes', 'beer', 'bought', 'by', 'finnish', 'tourists', '.'], tags=[1]),\n",
       "       ...,\n",
       "       TaggedDocument(words=['proha', 'plc', '(', 'euronet', ':7327', ')', 'announced', 'today', '(', '19', 'may', ')', 'that', 'its', 'fully-owned', 'subsidiary', ',', 'safran', 'software', 'solutions', 'as', ',', 'has', 'agreed', 'to', 'sell', 'its', '49', '%', 'share', 'of', 'safran', 'north', 'america', 'llc', 'to', 'a', 'sna', 'holding', 'as', ',', 'an', 'investment', 'group', 'based', 'in', 'norway', '.'], tags=[1]),\n",
       "       TaggedDocument(words=['the', 'building', 'will', 'house', 'product', 'development', 'and', 'test', 'laboratories', '.'], tags=[1]),\n",
       "       TaggedDocument(words=['(', 'adp', 'news', ')', '-', 'oct', '31', ',', '2008', '-', 'finnish', 'food', 'company', 'raisio', 'oyj', '(', 'om', ':', 'raivv', ')', 'said', 'today', 'that', 'its', 'net', 'profit', 'jumped', 'to', 'eur', '16.4', 'million', '(', 'usd', '20.9', 'm', ')', 'for', 'the', 'first', 'nine', 'months', 'of', '2008', 'from', 'eur', '1.1', 'million', 'for', 'the', 'same', 'period', 'of', '2'], tags=[0])],\n",
       "      dtype=object)"
      ]
     },
     "execution_count": 43,
     "metadata": {},
     "output_type": "execute_result"
    }
   ],
   "source": [
    "#train_tagged.values[2173]\n",
    "train_tagged.values"
   ]
  },
  {
   "cell_type": "code",
   "execution_count": 46,
   "id": "e8ce99dd",
   "metadata": {},
   "outputs": [
    {
     "name": "stderr",
     "output_type": "stream",
     "text": [
      "100%|█████████████████████████████████████████████████████████████████████████| 4844/4844 [00:00<00:00, 1367517.57it/s]\n"
     ]
    }
   ],
   "source": [
    "d2v_model = Doc2Vec(dm=1, dm_mean=1, window=8, min_count=1, workers=1, alpha=0.065, min_alpha=0.065)\n",
    "d2v_model.build_vocab([x for x in tqdm(train_tagged.values)])"
   ]
  },
  {
   "cell_type": "code",
   "execution_count": 47,
   "id": "4311f689",
   "metadata": {},
   "outputs": [
    {
     "name": "stderr",
     "output_type": "stream",
     "text": [
      "100%|█████████████████████████████████████████████████████████████████████████| 4844/4844 [00:00<00:00, 1482358.72it/s]\n",
      "100%|██████████████████████████████████████████████████████████████████████████████████████| 4844/4844 [00:00<?, ?it/s]\n",
      "100%|██████████████████████████████████████████████████████████████████████████████████████| 4844/4844 [00:00<?, ?it/s]\n",
      "100%|██████████████████████████████████████████████████████████████████████████████████████| 4844/4844 [00:00<?, ?it/s]\n",
      "100%|██████████████████████████████████████████████████████████████████████████████████████| 4844/4844 [00:00<?, ?it/s]\n",
      "100%|██████████████████████████████████████████████████████████████████████████| 4844/4844 [00:00<00:00, 423513.40it/s]\n",
      "100%|█████████████████████████████████████████████████████████████████████████| 4844/4844 [00:00<00:00, 1530025.50it/s]\n",
      "100%|██████████████████████████████████████████████████████████████████████████████████████| 4844/4844 [00:00<?, ?it/s]\n",
      "100%|██████████████████████████████████████████████████████████████████████████████████████| 4844/4844 [00:00<?, ?it/s]\n",
      "100%|██████████████████████████████████████████████████████████████████████████| 4844/4844 [00:00<00:00, 605020.95it/s]\n",
      "100%|██████████████████████████████████████████████████████████████████████████████████████| 4844/4844 [00:00<?, ?it/s]\n",
      "100%|█████████████████████████████████████████████████████████████████████████| 4844/4844 [00:00<00:00, 1942743.22it/s]\n",
      "100%|██████████████████████████████████████████████████████████████████████████████████████| 4844/4844 [00:00<?, ?it/s]\n",
      "100%|██████████████████████████████████████████████████████████████████████████████████████| 4844/4844 [00:00<?, ?it/s]\n",
      "100%|██████████████████████████████████████████████████████████████████████████████████████| 4844/4844 [00:00<?, ?it/s]\n",
      "100%|█████████████████████████████████████████████████████████████████████████| 4844/4844 [00:00<00:00, 1179998.17it/s]\n",
      "100%|██████████████████████████████████████████████████████████████████████████████████████| 4844/4844 [00:00<?, ?it/s]\n",
      "100%|█████████████████████████████████████████████████████████████████████████| 4844/4844 [00:00<00:00, 1356832.41it/s]\n",
      "100%|██████████████████████████████████████████████████████████████████████████████████████| 4844/4844 [00:00<?, ?it/s]\n",
      "100%|██████████████████████████████████████████████████████████████████████████████████████| 4844/4844 [00:00<?, ?it/s]\n",
      "100%|██████████████████████████████████████████████████████████████████████████████████████| 4844/4844 [00:00<?, ?it/s]\n",
      "100%|██████████████████████████████████████████████████████████████████████████| 4844/4844 [00:00<00:00, 418946.07it/s]\n",
      "100%|██████████████████████████████████████████████████████████████████████████| 4844/4844 [00:00<00:00, 442582.86it/s]\n",
      "100%|█████████████████████████████████████████████████████████████████████████| 4844/4844 [00:00<00:00, 1438997.70it/s]\n",
      "100%|█████████████████████████████████████████████████████████████████████████| 4844/4844 [00:00<00:00, 1991492.70it/s]\n",
      "100%|██████████████████████████████████████████████████████████████████████████| 4844/4844 [00:00<00:00, 611356.44it/s]\n",
      "100%|██████████████████████████████████████████████████████████████████████████| 4844/4844 [00:00<00:00, 966841.56it/s]\n",
      "100%|██████████████████████████████████████████████████████████████████████████████████████| 4844/4844 [00:00<?, ?it/s]\n",
      "100%|█████████████████████████████████████████████████████████████████████████| 4844/4844 [00:00<00:00, 3244005.84it/s]\n",
      "100%|██████████████████████████████████████████████████████████████████████████████████████| 4844/4844 [00:00<?, ?it/s]\n"
     ]
    },
    {
     "name": "stdout",
     "output_type": "stream",
     "text": [
      "CPU times: total: 20.7 s\n",
      "Wall time: 20.6 s\n"
     ]
    }
   ],
   "source": [
    "%%time\n",
    "for epoch in range(30):\n",
    "    d2v_model.train(utils.shuffle([x for x in tqdm(train_tagged.values)]), total_examples=len(train_tagged.values), epochs=1)\n",
    "    d2v_model.alpha -= 0.002\n",
    "    d2v_model.min_alpha = d2v_model.alpha"
   ]
  },
  {
   "cell_type": "code",
   "execution_count": 48,
   "id": "e2b2b821",
   "metadata": {},
   "outputs": [
    {
     "name": "stdout",
     "output_type": "stream",
     "text": [
      "Doc2Vec(dm/m,d100,n5,w8,s0.001)\n"
     ]
    }
   ],
   "source": [
    "print(d2v_model)"
   ]
  },
  {
   "cell_type": "code",
   "execution_count": 55,
   "id": "691a126c",
   "metadata": {},
   "outputs": [
    {
     "data": {
      "text/plain": [
       "11682"
      ]
     },
     "execution_count": 55,
     "metadata": {},
     "output_type": "execute_result"
    }
   ],
   "source": [
    "len(d2v_model.wv)"
   ]
  },
  {
   "cell_type": "code",
   "execution_count": 58,
   "id": "4e45a61e",
   "metadata": {},
   "outputs": [
    {
     "data": {
      "text/plain": [
       "[('loss', 0.6812361478805542),\n",
       " ('short', 0.497584730386734),\n",
       " ('koduetra', 0.4868198037147522),\n",
       " ('consolidated', 0.483424574136734),\n",
       " ('823.2', 0.47407010197639465),\n",
       " ('profits', 0.47169438004493713),\n",
       " ('income', 0.4681815803050995),\n",
       " ('eist', 0.46380868554115295),\n",
       " ('trojan', 0.4578436315059662),\n",
       " ('tii1v', 0.44829297065734863)]"
      ]
     },
     "execution_count": 58,
     "metadata": {},
     "output_type": "execute_result"
    }
   ],
   "source": [
    "d2v_model.wv.most_similar(positive=['profit'], topn=10)"
   ]
  },
  {
   "cell_type": "code",
   "execution_count": 59,
   "id": "26448cef",
   "metadata": {},
   "outputs": [
    {
     "data": {
      "text/plain": [
       "[('fund', 0.4730614721775055),\n",
       " ('ethibel', 0.46182289719581604),\n",
       " ('fair', 0.45587238669395447),\n",
       " ('municipality', 0.455068439245224),\n",
       " ('zao', 0.4500700533390045),\n",
       " ('properties', 0.44927605986595154),\n",
       " ('remind', 0.4366885721683502),\n",
       " ('property', 0.42658406496047974),\n",
       " ('ver', 0.4250154495239258),\n",
       " ('300,00', 0.4173727035522461)]"
      ]
     },
     "execution_count": 59,
     "metadata": {},
     "output_type": "execute_result"
    }
   ],
   "source": [
    "d2v_model.wv.most_similar(positive=['investment'], topn=10)"
   ]
  },
  {
   "cell_type": "code",
   "execution_count": 60,
   "id": "3a29ac0b",
   "metadata": {},
   "outputs": [
    {
     "data": {
      "text/plain": [
       "[('mold', 0.9561076164245605),\n",
       " ('aptly', 0.7444880604743958),\n",
       " ('click', 0.727258563041687),\n",
       " ('aboavista', 0.7204100489616394),\n",
       " ('143.9', 0.7164127826690674),\n",
       " ('www.icis.com', 0.7132359743118286),\n",
       " ('buys', 0.7122510075569153),\n",
       " ('warmly', 0.6889361143112183),\n",
       " ('remarked', 0.6846426129341125),\n",
       " ('ervio', 0.6829609274864197)]"
      ]
     },
     "execution_count": 60,
     "metadata": {},
     "output_type": "execute_result"
    }
   ],
   "source": [
    "d2v_model.wv.most_similar(positive=['broke'], topn=10)"
   ]
  },
  {
   "cell_type": "code",
   "execution_count": 69,
   "id": "af57ae35",
   "metadata": {},
   "outputs": [],
   "source": [
    "from sklearn.manifold import TSNE\n",
    "import matplotlib.pyplot as plt\n",
    "%matplotlib inline\n",
    "\n",
    "def tsne_plot(model):\n",
    "    \"Creates and TSNE model and plots it\"\n",
    "    labels = []\n",
    "    tokens = []\n",
    "\n",
    "    for word in d2v_model.wv:\n",
    "        tokens.append(model[word])\n",
    "        labels.append(word)\n",
    "    \n",
    "    tsne_model = TSNE(perplexity=40, n_components=2, init='pca', n_iter=250, random_state=23)\n",
    "    new_values = tsne_model.fit_transform(tokens)\n",
    "\n",
    "    x = []\n",
    "    y = []\n",
    "    for value in new_values:\n",
    "        x.append(value[0])\n",
    "        y.append(value[1])\n",
    "        \n",
    "    plt.figure(figsize=(16, 16)) \n",
    "    for i in range(len(x)):\n",
    "        plt.scatter(x[i],y[i])\n",
    "        plt.annotate(labels[i],\n",
    "                     xy=(x[i], y[i]),\n",
    "                     xytext=(5, 2),\n",
    "                     textcoords='offset points',\n",
    "                     ha='right',\n",
    "                     va='bottom')\n",
    "    plt.show()"
   ]
  },
  {
   "cell_type": "code",
   "execution_count": 71,
   "id": "135e2687",
   "metadata": {},
   "outputs": [
    {
     "name": "stdout",
     "output_type": "stream",
     "text": [
      "Model: \"sequential_1\"\n",
      "_________________________________________________________________\n",
      " Layer (type)                Output Shape              Param #   \n",
      "=================================================================\n",
      " embedding (Embedding)       (None, 50, 20)            233660    \n",
      "                                                                 \n",
      " lstm (LSTM)                 (None, 50)                14200     \n",
      "                                                                 \n",
      " dense (Dense)               (None, 3)                 153       \n",
      "                                                                 \n",
      "=================================================================\n",
      "Total params: 248,013\n",
      "Trainable params: 248,013\n",
      "Non-trainable params: 0\n",
      "_________________________________________________________________\n"
     ]
    }
   ],
   "source": [
    "from keras.models import Sequential\n",
    "from keras.layers import LSTM, Dense, Embedding\n",
    "\n",
    "\n",
    "# init layer\n",
    "model = Sequential()\n",
    "\n",
    "# emmbed word vectors\n",
    "model.add(Embedding(len(d2v_model.wv)+1,20,input_length=X.shape[1],weights=[embedding_matrix],trainable=True))\n",
    "\n",
    "# learn the correlations\n",
    "def split_input(sequence):\n",
    "     return sequence[:-1], tf.reshape(sequence[1:], (-1,1))\n",
    "model.add(LSTM(50,return_sequences=False))\n",
    "model.add(Dense(3,activation=\"softmax\"))\n",
    "\n",
    "# output model skeleton\n",
    "model.summary()\n",
    "model.compile(optimizer=\"adam\",loss=\"binary_crossentropy\",metrics=['acc'])"
   ]
  },
  {
   "cell_type": "code",
   "execution_count": 72,
   "id": "906adce2",
   "metadata": {},
   "outputs": [
    {
     "data": {
      "image/png": "[encoded data removed]",
      "text/plain": [
       "<IPython.core.display.Image object>"
      ]
     },
     "execution_count": 72,
     "metadata": {},
     "output_type": "execute_result"
    }
   ],
   "source": [
    "from keras.utils import plot_model\n",
    "plot_model(model, to_file='model.png')"
   ]
  },
  {
   "cell_type": "code",
   "execution_count": 73,
   "id": "ac855990",
   "metadata": {},
   "outputs": [
    {
     "name": "stdout",
     "output_type": "stream",
     "text": [
      "(4118, 50) (4118, 3)\n",
      "(727, 50) (727, 3)\n"
     ]
    }
   ],
   "source": [
    "Y = pd.get_dummies(df['sentiment']).values\n",
    "X_train, X_test, Y_train, Y_test = train_test_split(X,Y, test_size = 0.15, random_state = 42)\n",
    "print(X_train.shape,Y_train.shape)\n",
    "print(X_test.shape,Y_test.shape)"
   ]
  },
  {
   "cell_type": "code",
   "execution_count": 74,
   "id": "a3fafd43",
   "metadata": {},
   "outputs": [
    {
     "name": "stdout",
     "output_type": "stream",
     "text": [
      "Epoch 1/50\n",
      "129/129 - 11s - loss: 0.5507 - acc: 0.5976 - 11s/epoch - 81ms/step\n",
      "Epoch 2/50\n",
      "129/129 - 5s - loss: 0.4137 - acc: 0.7020 - 5s/epoch - 36ms/step\n",
      "Epoch 3/50\n",
      "129/129 - 5s - loss: 0.3011 - acc: 0.7880 - 5s/epoch - 36ms/step\n",
      "Epoch 4/50\n",
      "129/129 - 5s - loss: 0.2241 - acc: 0.8533 - 5s/epoch - 38ms/step\n",
      "Epoch 5/50\n",
      "129/129 - 5s - loss: 0.1569 - acc: 0.9162 - 5s/epoch - 43ms/step\n",
      "Epoch 6/50\n",
      "129/129 - 5s - loss: 0.1114 - acc: 0.9454 - 5s/epoch - 42ms/step\n",
      "Epoch 7/50\n",
      "129/129 - 5s - loss: 0.0835 - acc: 0.9599 - 5s/epoch - 42ms/step\n",
      "Epoch 8/50\n",
      "129/129 - 5s - loss: 0.0650 - acc: 0.9713 - 5s/epoch - 36ms/step\n",
      "Epoch 9/50\n",
      "129/129 - 5s - loss: 0.0444 - acc: 0.9820 - 5s/epoch - 38ms/step\n",
      "Epoch 10/50\n",
      "129/129 - 5s - loss: 0.0339 - acc: 0.9849 - 5s/epoch - 38ms/step\n",
      "Epoch 11/50\n",
      "129/129 - 5s - loss: 0.0287 - acc: 0.9881 - 5s/epoch - 38ms/step\n",
      "Epoch 12/50\n",
      "129/129 - 5s - loss: 0.0230 - acc: 0.9910 - 5s/epoch - 37ms/step\n",
      "Epoch 13/50\n",
      "129/129 - 5s - loss: 0.0218 - acc: 0.9905 - 5s/epoch - 37ms/step\n",
      "Epoch 14/50\n",
      "129/129 - 5s - loss: 0.0165 - acc: 0.9934 - 5s/epoch - 36ms/step\n",
      "Epoch 15/50\n",
      "129/129 - 4s - loss: 0.0194 - acc: 0.9922 - 4s/epoch - 35ms/step\n",
      "Epoch 16/50\n",
      "129/129 - 5s - loss: 0.0169 - acc: 0.9934 - 5s/epoch - 39ms/step\n",
      "Epoch 17/50\n",
      "129/129 - 5s - loss: 0.0188 - acc: 0.9922 - 5s/epoch - 36ms/step\n",
      "Epoch 18/50\n",
      "129/129 - 5s - loss: 0.0139 - acc: 0.9954 - 5s/epoch - 37ms/step\n",
      "Epoch 19/50\n",
      "129/129 - 5s - loss: 0.0095 - acc: 0.9959 - 5s/epoch - 38ms/step\n",
      "Epoch 20/50\n",
      "129/129 - 5s - loss: 0.0088 - acc: 0.9956 - 5s/epoch - 40ms/step\n",
      "Epoch 21/50\n",
      "129/129 - 5s - loss: 0.0073 - acc: 0.9973 - 5s/epoch - 42ms/step\n",
      "Epoch 22/50\n",
      "129/129 - 5s - loss: 0.0095 - acc: 0.9956 - 5s/epoch - 43ms/step\n",
      "Epoch 23/50\n",
      "129/129 - 5s - loss: 0.0077 - acc: 0.9976 - 5s/epoch - 43ms/step\n",
      "Epoch 24/50\n",
      "129/129 - 6s - loss: 0.0063 - acc: 0.9971 - 6s/epoch - 43ms/step\n",
      "Epoch 25/50\n",
      "129/129 - 5s - loss: 0.0080 - acc: 0.9966 - 5s/epoch - 40ms/step\n",
      "Epoch 26/50\n",
      "129/129 - 5s - loss: 0.0100 - acc: 0.9956 - 5s/epoch - 41ms/step\n",
      "Epoch 27/50\n",
      "129/129 - 5s - loss: 0.0119 - acc: 0.9947 - 5s/epoch - 42ms/step\n",
      "Epoch 28/50\n",
      "129/129 - 5s - loss: 0.0147 - acc: 0.9932 - 5s/epoch - 39ms/step\n",
      "Epoch 29/50\n",
      "129/129 - 5s - loss: 0.0067 - acc: 0.9973 - 5s/epoch - 41ms/step\n",
      "Epoch 30/50\n",
      "129/129 - 6s - loss: 0.0062 - acc: 0.9971 - 6s/epoch - 44ms/step\n",
      "Epoch 31/50\n",
      "129/129 - 5s - loss: 0.0043 - acc: 0.9976 - 5s/epoch - 42ms/step\n",
      "Epoch 32/50\n",
      "129/129 - 6s - loss: 0.0033 - acc: 0.9978 - 6s/epoch - 43ms/step\n",
      "Epoch 33/50\n",
      "129/129 - 6s - loss: 0.0056 - acc: 0.9973 - 6s/epoch - 43ms/step\n",
      "Epoch 34/50\n",
      "129/129 - 6s - loss: 0.0092 - acc: 0.9956 - 6s/epoch - 43ms/step\n",
      "Epoch 35/50\n",
      "129/129 - 6s - loss: 0.0116 - acc: 0.9949 - 6s/epoch - 43ms/step\n",
      "Epoch 36/50\n",
      "129/129 - 5s - loss: 0.0083 - acc: 0.9961 - 5s/epoch - 42ms/step\n",
      "Epoch 37/50\n",
      "129/129 - 5s - loss: 0.0078 - acc: 0.9964 - 5s/epoch - 40ms/step\n",
      "Epoch 38/50\n",
      "129/129 - 5s - loss: 0.0038 - acc: 0.9981 - 5s/epoch - 42ms/step\n",
      "Epoch 39/50\n",
      "129/129 - 5s - loss: 0.0031 - acc: 0.9983 - 5s/epoch - 42ms/step\n",
      "Epoch 40/50\n",
      "129/129 - 5s - loss: 0.0030 - acc: 0.9976 - 5s/epoch - 38ms/step\n",
      "Epoch 41/50\n",
      "129/129 - 4s - loss: 0.0022 - acc: 0.9985 - 4s/epoch - 35ms/step\n",
      "Epoch 42/50\n",
      "129/129 - 5s - loss: 0.0023 - acc: 0.9985 - 5s/epoch - 37ms/step\n",
      "Epoch 43/50\n",
      "129/129 - 5s - loss: 0.0019 - acc: 0.9985 - 5s/epoch - 42ms/step\n",
      "Epoch 44/50\n",
      "129/129 - 5s - loss: 0.0099 - acc: 0.9947 - 5s/epoch - 42ms/step\n",
      "Epoch 45/50\n",
      "129/129 - 6s - loss: 0.0103 - acc: 0.9956 - 6s/epoch - 43ms/step\n",
      "Epoch 46/50\n",
      "129/129 - 6s - loss: 0.0062 - acc: 0.9971 - 6s/epoch - 43ms/step\n",
      "Epoch 47/50\n",
      "129/129 - 6s - loss: 0.0029 - acc: 0.9981 - 6s/epoch - 43ms/step\n",
      "Epoch 48/50\n",
      "129/129 - 5s - loss: 0.0026 - acc: 0.9978 - 5s/epoch - 43ms/step\n",
      "Epoch 49/50\n",
      "129/129 - 5s - loss: 0.0022 - acc: 0.9981 - 5s/epoch - 41ms/step\n",
      "Epoch 50/50\n",
      "129/129 - 5s - loss: 0.0025 - acc: 0.9988 - 5s/epoch - 41ms/step\n"
     ]
    }
   ],
   "source": [
    "batch_size = 32\n",
    "history=model.fit(X_train, Y_train, epochs =50, batch_size=batch_size, verbose = 2)"
   ]
  },
  {
   "cell_type": "code",
   "execution_count": 75,
   "id": "7a6da958",
   "metadata": {},
   "outputs": [
    {
     "data": {
      "image/png": "[encoded data removed]",
      "text/plain": [
       "<Figure size 432x288 with 1 Axes>"
      ]
     },
     "metadata": {
      "needs_background": "light"
     },
     "output_type": "display_data"
    },
    {
     "data": {
      "image/png": "[encoded data removed]",
      "text/plain": [
       "<Figure size 432x288 with 1 Axes>"
      ]
     },
     "metadata": {
      "needs_background": "light"
     },
     "output_type": "display_data"
    },
    {
     "data": {
      "text/plain": [
       "<Figure size 432x288 with 0 Axes>"
      ]
     },
     "metadata": {},
     "output_type": "display_data"
    }
   ],
   "source": [
    "plt.plot(history.history['acc'])\n",
    "plt.title('model accuracy')\n",
    "plt.ylabel('acc')\n",
    "plt.xlabel('epochs')\n",
    "plt.legend(['train', 'test'], loc='upper left')\n",
    "plt.show()\n",
    "plt.savefig('model_accuracy.png')\n",
    "\n",
    "# summarize history for loss\n",
    "plt.plot(history.history['loss'])\n",
    "#plt.plot(history.history['val_loss'])\n",
    "plt.title('model loss')\n",
    "plt.ylabel('loss')\n",
    "plt.xlabel('epochs')\n",
    "plt.legend(['train', 'test'], loc='upper left')\n",
    "plt.show()\n",
    "plt.savefig('model_loss.png')"
   ]
  },
  {
   "cell_type": "code",
   "execution_count": 76,
   "id": "ac2ab045",
   "metadata": {},
   "outputs": [
    {
     "name": "stdout",
     "output_type": "stream",
     "text": [
      "129/129 - 3s - loss: 0.0017 - acc: 0.9993 - 3s/epoch - 22ms/step\n",
      "23/23 - 0s - loss: 1.2616 - acc: 0.6988 - 344ms/epoch - 15ms/step\n",
      "Train: 0.999, Test: 0.6988\n"
     ]
    }
   ],
   "source": [
    "# evaluate the model\n",
    "_, train_acc = model.evaluate(X_train, Y_train, verbose=2)\n",
    "_, test_acc = model.evaluate(X_test, Y_test, verbose=2)\n",
    "print('Train: %.3f, Test: %.4f' % (train_acc, test_acc))"
   ]
  },
  {
   "cell_type": "code",
   "execution_count": 79,
   "id": "5668b6cd",
   "metadata": {},
   "outputs": [
    {
     "name": "stdout",
     "output_type": "stream",
     "text": [
      "[[1.4945734e-06 9.9999797e-01 4.9269681e-07]\n",
      " [1.0000000e+00 2.5266321e-08 1.5539994e-08]\n",
      " [1.6636357e-05 9.9996328e-01 2.0019548e-05]\n",
      " ...\n",
      " [1.0000000e+00 2.2380622e-08 1.7541698e-09]\n",
      " [6.2084318e-08 9.9999988e-01 4.5963056e-08]\n",
      " [1.0000000e+00 4.3594380e-08 1.8266810e-08]]\n",
      "[[1.4945734e-06 9.9999797e-01 4.9269681e-07]\n",
      " [1.0000000e+00 2.5266321e-08 1.5539994e-08]\n",
      " [1.6636357e-05 9.9996328e-01 2.0019548e-05]\n",
      " ...\n",
      " [1.0000000e+00 2.2380622e-08 1.7541698e-09]\n",
      " [6.2084318e-08 9.9999988e-01 4.5963056e-08]\n",
      " [1.0000000e+00 4.3594380e-08 1.8266810e-08]]\n"
     ]
    }
   ],
   "source": [
    "# predict probabilities for test set\n",
    "yhat_probs = model.predict(X_test, verbose=0)\n",
    "print(yhat_probs)\n",
    "# predict crisp classes for test set\n",
    "yhat_classes = model.predict(X_test, verbose=0)\n",
    "print(yhat_classes)\n",
    "# reduce to 1d array\n",
    "#yhat_probs = yhat_probs[:, 0]\n",
    "#yhat_classes = yhat_classes[:, 1"
   ]
  },
  {
   "cell_type": "code",
   "execution_count": 80,
   "id": "76a2e88c",
   "metadata": {},
   "outputs": [
    {
     "data": {
      "text/plain": [
       "array([1, 0, 1, 1, 1, 1, 1, 1, 1, 1, 1, 0, 1, 2, 1, 0, 1, 0, 0, 2, 2, 1,\n",
       "       0, 0, 1, 0, 1, 0, 0, 2, 1, 1, 0, 2, 1, 0, 2, 0, 1, 1, 0, 1, 2, 1,\n",
       "       0, 1, 1, 1, 0, 0, 2, 1, 0, 2, 1, 0, 1, 1, 1, 1, 0, 0, 0, 1, 2, 1,\n",
       "       0, 1, 1, 1, 1, 0, 0, 0, 0, 1, 0, 1, 1, 0, 1, 2, 0, 1, 0, 0, 0, 0,\n",
       "       0, 0, 0, 1, 2, 2, 1, 0, 1, 1, 0, 1, 2, 1, 1, 2, 1, 1, 1, 1, 1, 1,\n",
       "       1, 0, 2, 1, 1, 0, 0, 0, 0, 0, 0, 1, 1, 1, 1, 0, 0, 1, 0, 1, 2, 0,\n",
       "       1, 1, 0, 1, 0, 2, 1, 1, 1, 1, 1, 0, 1, 1, 1, 1, 0, 1, 1, 1, 1, 1,\n",
       "       1, 1, 1, 1, 2, 2, 0, 0, 1, 0, 1, 0, 1, 2, 1, 1, 1, 0, 1, 1, 0, 1,\n",
       "       1, 1, 1, 1, 0, 0, 1, 0, 1, 2, 1, 2, 1, 2, 1, 1, 0, 0, 1, 0, 2, 1,\n",
       "       2, 0, 1, 1, 0, 2, 1, 0, 1, 0, 0, 1, 1, 1, 1, 1, 1, 1, 1, 2, 0, 1,\n",
       "       0, 1, 1, 1, 2, 1, 1, 0, 1, 1, 1, 0, 0, 1, 2, 0, 1, 0, 1, 1, 1, 1,\n",
       "       1, 2, 0, 0, 0, 1, 1, 1, 1, 1, 0, 1, 1, 1, 1, 1, 1, 1, 1, 0, 1, 0,\n",
       "       2, 1, 2, 1, 1, 0, 1, 1, 2, 0, 1, 1, 1, 1, 1, 0, 1, 0, 1, 1, 0, 1,\n",
       "       1, 1, 2, 1, 0, 1, 0, 2, 2, 1, 1, 1, 0, 1, 0, 1, 1, 2, 1, 2, 1, 0,\n",
       "       1, 0, 1, 2, 1, 1, 0, 1, 1, 1, 1, 0, 1, 1, 0, 1, 0, 1, 1, 0, 1, 1,\n",
       "       1, 1, 0, 0, 0, 0, 0, 0, 1, 1, 1, 1, 0, 1, 1, 1, 2, 0, 2, 1, 0, 1,\n",
       "       1, 1, 1, 1, 0, 1, 2, 0, 1, 1, 1, 1, 0, 0, 1, 2, 1, 0, 0, 0, 1, 1,\n",
       "       1, 0, 1, 0, 2, 0, 0, 1, 2, 1, 0, 1, 0, 1, 1, 1, 1, 0, 1, 0, 1, 2,\n",
       "       2, 1, 0, 1, 1, 0, 1, 1, 2, 2, 0, 1, 1, 1, 1, 1, 0, 0, 1, 2, 0, 1,\n",
       "       1, 0, 2, 0, 1, 2, 2, 1, 1, 2, 1, 1, 0, 0, 1, 1, 1, 1, 1, 0, 2, 0,\n",
       "       1, 0, 1, 1, 1, 1, 0, 2, 1, 2, 1, 1, 1, 1, 1, 1, 2, 1, 1, 0, 1, 1,\n",
       "       1, 1, 1, 1, 1, 2, 1, 2, 1, 1, 1, 1, 1, 1, 0, 1, 1, 0, 1, 0, 1, 0,\n",
       "       1, 1, 1, 1, 0, 0, 1, 1, 1, 1, 1, 1, 1, 0, 1, 1, 1, 2, 1, 1, 0, 1,\n",
       "       1, 1, 1, 1, 2, 0, 0, 1, 0, 1, 0, 1, 1, 1, 1, 0, 0, 1, 1, 1, 0, 0,\n",
       "       1, 1, 2, 1, 0, 1, 1, 1, 1, 1, 1, 1, 1, 0, 1, 0, 1, 1, 0, 0, 2, 0,\n",
       "       0, 1, 1, 1, 1, 0, 2, 1, 0, 1, 1, 0, 2, 2, 1, 0, 1, 0, 2, 0, 0, 1,\n",
       "       1, 1, 1, 1, 1, 1, 2, 1, 1, 0, 0, 1, 1, 0, 1, 1, 1, 1, 0, 1, 1, 0,\n",
       "       0, 1, 1, 1, 2, 1, 1, 1, 1, 1, 1, 0, 2, 1, 2, 1, 0, 1, 0, 0, 0, 1,\n",
       "       1, 2, 1, 0, 2, 2, 1, 0, 1, 0, 1, 1, 0, 1, 0, 0, 2, 0, 0, 1, 1, 0,\n",
       "       1, 1, 1, 1, 1, 1, 1, 0, 0, 1, 1, 2, 0, 0, 0, 0, 1, 0, 2, 0, 1, 1,\n",
       "       0, 1, 1, 1, 1, 2, 1, 1, 1, 1, 1, 1, 1, 1, 1, 1, 1, 1, 0, 2, 1, 0,\n",
       "       1, 1, 1, 2, 0, 0, 1, 0, 1, 2, 1, 1, 1, 2, 1, 0, 1, 1, 1, 0, 1, 1,\n",
       "       2, 0, 1, 1, 1, 0, 1, 2, 1, 1, 1, 1, 0, 0, 0, 0, 1, 0, 1, 0, 1, 0,\n",
       "       0], dtype=int64)"
      ]
     },
     "execution_count": 80,
     "metadata": {},
     "output_type": "execute_result"
    }
   ],
   "source": [
    "import numpy as np\n",
    "rounded_labels=np.argmax(Y_test, axis=1)\n",
    "rounded_labels"
   ]
  },
  {
   "cell_type": "code",
   "execution_count": 99,
   "id": "2873693d",
   "metadata": {},
   "outputs": [
    {
     "name": "stdout",
     "output_type": "stream",
     "text": [
      "4/4 [==============================] - 0s 15ms/step - loss: 1.2344 - acc: 0.7436\n",
      "score: 1.23\n",
      "acc: 0.74\n"
     ]
    }
   ],
   "source": [
    "validation_size = 610\n",
    "\n",
    "X_validate = X_test[-validation_size:]\n",
    "Y_validate = Y_test[-validation_size:]\n",
    "X_test = X_test[:-validation_size]\n",
    "Y_test = Y_test[:-validation_size]\n",
    "score,acc = model.evaluate(X_test, Y_test, verbose = 1, batch_size = batch_size)\n",
    "\n",
    "print(\"score: %.2f\" % (score))\n",
    "print(\"acc: %.2f\" % (acc))"
   ]
  },
  {
   "cell_type": "code",
   "execution_count": 100,
   "id": "6ff7c268",
   "metadata": {},
   "outputs": [],
   "source": [
    "model.save('Mymodel.h5')"
   ]
  },
  {
   "cell_type": "code",
   "execution_count": 101,
   "id": "8ac3334a",
   "metadata": {},
   "outputs": [
    {
     "name": "stdout",
     "output_type": "stream",
     "text": [
      "1/1 [==============================] - 0s 56ms/step\n",
      "[[0.19807756 0.17388184 0.6280406 ]] 2\n"
     ]
    }
   ],
   "source": [
    "message = ['Congratulations! you have won a $1,000 Walmart gift card']\n",
    "seq = tokenizer.texts_to_sequences(message)\n",
    "\n",
    "padded = pad_sequences(seq, maxlen=X.shape[1], dtype='int32', value=0)\n",
    "\n",
    "pred = model.predict(padded)\n",
    "\n",
    "labels = ['0','1','2']\n",
    "print(pred, labels[np.argmax(pred)])"
   ]
  },
  {
   "cell_type": "code",
   "execution_count": 102,
   "id": "6a98a600",
   "metadata": {},
   "outputs": [
    {
     "name": "stdout",
     "output_type": "stream",
     "text": [
      "1/1 [==============================] - 0s 49ms/step\n",
      "[[0.01821256 0.00140921 0.9803782 ]] 2\n"
     ]
    }
   ],
   "source": [
    "message = ['such massive asteroid hit will certainly create new business opportunities']\n",
    "seq = tokenizer.texts_to_sequences(message)\n",
    "\n",
    "padded = pad_sequences(seq, maxlen=X.shape[1], dtype='int32', value=0)\n",
    "\n",
    "pred = model.predict(padded)\n",
    "\n",
    "labels = ['0','1','2']\n",
    "print(pred, labels[np.argmax(pred)])"
   ]
  },
  {
   "cell_type": "code",
   "execution_count": 103,
   "id": "8a0b406f",
   "metadata": {},
   "outputs": [
    {
     "name": "stdout",
     "output_type": "stream",
     "text": [
      "1/1 [==============================] - 0s 47ms/step\n",
      "[[3.5917086e-10 1.0000000e+00 9.8572962e-11]] 1\n"
     ]
    }
   ],
   "source": [
    "message = ['so does anyone else not open Snapchat anymore ? or is it just me ... ugh this so sad.']\n",
    "seq = tokenizer.texts_to_sequences(message)\n",
    "\n",
    "padded = pad_sequences(seq, maxlen=X.shape[1], dtype='int32', value=0)\n",
    "\n",
    "pred = model.predict(padded)\n",
    "\n",
    "labels = ['0','1','2']\n",
    "print(pred, labels[np.argmax(pred)])"
   ]
  },
  {
   "cell_type": "code",
   "execution_count": 104,
   "id": "2fdb328f",
   "metadata": {},
   "outputs": [
    {
     "name": "stdout",
     "output_type": "stream",
     "text": [
      "1/1 [==============================] - 0s 51ms/step\n",
      "[[9.9998260e-01 1.6818442e-05 6.5176607e-07]] 0\n"
     ]
    }
   ],
   "source": [
    "message = ['@elonmusk had a terrible experience with a very pushy sales guy from tesla Stanford shop while shopping for model x']\n",
    "seq = tokenizer.texts_to_sequences(message)\n",
    "\n",
    "padded = pad_sequences(seq, maxlen=X.shape[1], dtype='int32', value=0)\n",
    "\n",
    "pred = model.predict(padded)\n",
    "\n",
    "labels = ['0','1','2']\n",
    "print(pred, labels[np.argmax(pred)])"
   ]
  },
  {
   "cell_type": "code",
   "execution_count": 105,
   "id": "5ecefd46",
   "metadata": {},
   "outputs": [
    {
     "name": "stdout",
     "output_type": "stream",
     "text": [
      "1/1 [==============================] - 0s 44ms/step\n",
      "[[5.5785149e-06 9.9999261e-01 1.7913862e-06]] 1\n"
     ]
    }
   ],
   "source": [
    "message = ['The local electronics industry is expected to remain stable amid layoff concerns surrounding Japanese electronics giants operating in the country, an official says.']\n",
    "seq = tokenizer.texts_to_sequences(message)\n",
    "\n",
    "padded = pad_sequences(seq, maxlen=X.shape[1], dtype='int32', value=0)\n",
    "\n",
    "pred = model.predict(padded)\n",
    "\n",
    "labels = ['0','1','2']\n",
    "print(pred, labels[np.argmax(pred)])"
   ]
  },
  {
   "cell_type": "code",
   "execution_count": 106,
   "id": "ea5c8652",
   "metadata": {},
   "outputs": [
    {
     "name": "stdout",
     "output_type": "stream",
     "text": [
      "1/1 [==============================] - 0s 48ms/step\n",
      "[[2.1985617e-08 2.3266217e-08 1.0000000e+00]] 2\n"
     ]
    }
   ],
   "source": [
    "message = ['The local electronics industry is amid layoff concerns and last year has laid off tens of employees']\n",
    "seq = tokenizer.texts_to_sequences(message)\n",
    "\n",
    "padded = pad_sequences(seq, maxlen=X.shape[1], dtype='int32', value=0)\n",
    "\n",
    "pred = model.predict(padded)\n",
    "\n",
    "labels = ['0','1','2']\n",
    "print(pred, labels[np.argmax(pred)])"
   ]
  },
  {
   "cell_type": "code",
   "execution_count": null,
   "id": "da8401ef",
   "metadata": {},
   "outputs": [],
   "source": []
  }
 ],
 "metadata": {
  "kernelspec": {
   "display_name": "Python 3 (ipykernel)",
   "language": "python",
   "name": "python3"
  },
  "language_info": {
   "codemirror_mode": {
    "name": "ipython",
    "version": 3
   },
   "file_extension": ".py",
   "mimetype": "text/x-python",
   "name": "python",
   "nbconvert_exporter": "python",
   "pygments_lexer": "ipython3",
   "version": "3.9.12"
  }
 },
 "nbformat": 4,
 "nbformat_minor": 5
}
